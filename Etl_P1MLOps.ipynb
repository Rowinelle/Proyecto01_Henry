{
 "cells": [
  {
   "cell_type": "code",
   "execution_count": null,
   "metadata": {},
   "outputs": [],
   "source": [
    "import pandas as pd\n",
    "import numpy as np\n",
    "from datetime import datetime\n",
    "from ast import literal_eval"
   ]
  },
  {
   "cell_type": "code",
   "execution_count": null,
   "metadata": {},
   "outputs": [],
   "source": [
    "df_mov = pd.read_csv(r\"C:\\Users\\romin\\Documents\\PROGRAMACION\\CIENCIA DE DATOS\\HENRY\\LABS\\PROYECTO INDIVIDUAL\\PI 01 MLOps\\Dataset\\movies_dataset.csv\", parse_dates = ['release_date'])"
   ]
  },
  {
   "cell_type": "code",
   "execution_count": null,
   "metadata": {},
   "outputs": [],
   "source": [
    "df_credits = pd.read_csv(r\"C:\\Users\\romin\\Documents\\PROGRAMACION\\CIENCIA DE DATOS\\HENRY\\LABS\\PROYECTO INDIVIDUAL\\PI 01 MLOps\\Dataset\\credits.csv\")"
   ]
  },
  {
   "cell_type": "code",
   "execution_count": null,
   "metadata": {},
   "outputs": [],
   "source": [
    "duplicadoscred = df_credits[df_credits['id'].duplicated()]"
   ]
  },
  {
   "cell_type": "code",
   "execution_count": null,
   "metadata": {},
   "outputs": [],
   "source": [
    "df_credits = df_credits.drop_duplicates(subset = 'id')"
   ]
  },
  {
   "attachments": {},
   "cell_type": "markdown",
   "metadata": {},
   "source": [
    "\n",
    "\n",
    "join\n",
    "\n"
   ]
  },
  {
   "cell_type": "code",
   "execution_count": null,
   "metadata": {},
   "outputs": [],
   "source": [
    "#convierto columna id al mismo tipo que la del otro df\n",
    "df_credits['id'] = df_credits['id'].astype(str)"
   ]
  },
  {
   "cell_type": "code",
   "execution_count": null,
   "metadata": {},
   "outputs": [],
   "source": [
    "#uso outer para que traiga todo lo de movies, mas lo que tiene en comun con credits\n",
    "df_movies=df_mov.merge(df_credits, how = 'outer', on = 'id')\n"
   ]
  },
  {
   "attachments": {},
   "cell_type": "markdown",
   "metadata": {},
   "source": [
    "\n",
    "\n",
    "TRANSFORMACIONES\n",
    "\n"
   ]
  },
  {
   "attachments": {},
   "cell_type": "markdown",
   "metadata": {},
   "source": [
    "RELLENAR VALORES FALTANTES EN BUDGET Y REVENUE\n",
    "Los valores nulos de los campos revenue, budget deben ser rellenados por el número 0."
   ]
  },
  {
   "cell_type": "code",
   "execution_count": null,
   "metadata": {},
   "outputs": [],
   "source": [
    "#chequeo si hay valores nulos\n",
    "print(df_movies['budget'].isnull().sum())\n",
    "print(df_movies['revenue'].isnull().sum())"
   ]
  },
  {
   "cell_type": "code",
   "execution_count": null,
   "metadata": {},
   "outputs": [],
   "source": [
    "# rellenar con 0 los nulos\n",
    "df_movies['budget'] = df_movies['budget'].fillna(0)\n",
    "df_movies['revenue'] = df_movies['revenue'].fillna(0)"
   ]
  },
  {
   "cell_type": "code",
   "execution_count": null,
   "metadata": {},
   "outputs": [],
   "source": [
    "#chequeo nulos en Cast y Crew porque pueden interferir al aplanar los diccionarios\n",
    "print(df_movies['cast'].isnull().sum())\n",
    "print(df_movies['crew'].isnull().sum())"
   ]
  },
  {
   "cell_type": "code",
   "execution_count": null,
   "metadata": {},
   "outputs": [],
   "source": [
    "# elimino nan de cast y crew\n",
    "df_movies = df_movies.dropna(subset=['cast'])\n",
    "df_movies = df_movies.dropna(subset=['crew'])"
   ]
  },
  {
   "attachments": {},
   "cell_type": "markdown",
   "metadata": {},
   "source": [
    "De haber fechas, deberán tener el formato AAAA-mm-dd, además deberán crear la columna release_year donde extraerán el año de la fecha de estreno."
   ]
  },
  {
   "attachments": {},
   "cell_type": "markdown",
   "metadata": {},
   "source": [
    "COLUMNA RELEASE YEAR"
   ]
  },
  {
   "cell_type": "code",
   "execution_count": null,
   "metadata": {},
   "outputs": [],
   "source": [
    "# separo la release date en 3, expando las columnas (anio, mes, dia)\n",
    "df_movies[['release_year','release_month', 'release_day']]=df_movies.release_date.str.split(pat='-',expand=True)"
   ]
  },
  {
   "cell_type": "code",
   "execution_count": null,
   "metadata": {},
   "outputs": [],
   "source": [
    "#elimino columnas que sobran\n",
    "del df_movies['release_month']\n",
    "del df_movies['release_day']"
   ]
  },
  {
   "attachments": {},
   "cell_type": "markdown",
   "metadata": {},
   "source": [
    "cambio formato de release date"
   ]
  },
  {
   "cell_type": "code",
   "execution_count": null,
   "metadata": {},
   "outputs": [],
   "source": [
    "# pasar a formato fecha. los datos que no son strings los convierte en nulos\n",
    "df_movies['release_date'] = pd.to_datetime(df_movies['release_date'], format=\"%Y/%m/%d\", errors = 'coerce')"
   ]
  },
  {
   "attachments": {},
   "cell_type": "markdown",
   "metadata": {},
   "source": [
    "elimino nulos de release date"
   ]
  },
  {
   "cell_type": "code",
   "execution_count": null,
   "metadata": {},
   "outputs": [],
   "source": [
    "print(df_movies['release_date'].isnull().sum())"
   ]
  },
  {
   "cell_type": "code",
   "execution_count": null,
   "metadata": {},
   "outputs": [],
   "source": [
    "df_movies = df_movies.dropna(subset=['release_date'])"
   ]
  },
  {
   "attachments": {},
   "cell_type": "markdown",
   "metadata": {},
   "source": [
    "Crear la columna con el retorno de inversión, llamada return con los campos revenue y budget, dividiendo estas dos últimas revenue / budget, cuando no hay datos disponibles para calcularlo, deberá tomar el valor 0."
   ]
  },
  {
   "cell_type": "code",
   "execution_count": null,
   "metadata": {},
   "outputs": [],
   "source": [
    "def calcularRetorno(row):\n",
    "    row['revenue'] = pd.to_numeric(row['revenue'], errors = 'coerce')\n",
    "    row['budget'] = pd.to_numeric(row['budget'], errors = 'coerce')\n",
    "    if row['revenue'] == 0 or row['budget'] == 0:\n",
    "        return 0\n",
    "    else:\n",
    "        return round(row['revenue'] / row['budget'],2)\n",
    "\n",
    "df_movies['return'] = np.where((df_movies['revenue'] == 0) | (df_movies['budget'] == 0), 0, df_movies.apply(calcularRetorno, axis=1))"
   ]
  },
  {
   "attachments": {},
   "cell_type": "markdown",
   "metadata": {},
   "source": [
    "eliminar columnas que no serán utilizadas"
   ]
  },
  {
   "cell_type": "code",
   "execution_count": null,
   "metadata": {},
   "outputs": [],
   "source": [
    "del df_movies['video']\n",
    "del df_movies['imdb_id']\n",
    "del df_movies['adult']\n",
    "del df_movies['original_title']\n",
    "del df_movies['poster_path']\n",
    "del df_movies['homepage']"
   ]
  },
  {
   "attachments": {},
   "cell_type": "markdown",
   "metadata": {},
   "source": [
    "unnesting"
   ]
  },
  {
   "cell_type": "code",
   "execution_count": null,
   "metadata": {},
   "outputs": [],
   "source": [
    "def desanidar(obj):\n",
    "    lista = []\n",
    "    for i in literal_eval (obj):\n",
    "        try:\n",
    "            lista.append(i['name'])\n",
    "        except (ValueError, TypeError, KeyError):\n",
    "            pass\n",
    "    return lista"
   ]
  },
  {
   "cell_type": "code",
   "execution_count": null,
   "metadata": {},
   "outputs": [],
   "source": [
    "df_movies['genres'] = df_movies['genres'].apply(desanidar)\n",
    "df_movies['production_companies'] = df_movies['production_companies'].apply(desanidar)\n",
    "df_movies['production_countries'] = df_movies['production_countries'].apply(desanidar)\n",
    "df_movies['spoken_languages'] = df_movies['spoken_languages'].apply(desanidar)\n",
    "df_movies['cast'] = df_movies['cast'].apply(desanidar)"
   ]
  },
  {
   "cell_type": "code",
   "execution_count": null,
   "metadata": {},
   "outputs": [],
   "source": [
    "import ast\n",
    "def desanidar2(obj):\n",
    "    if isinstance(obj, str) and '{' in obj:\n",
    "        dic = ast.literal_eval(obj)\n",
    "        return dic['name']\n",
    "    "
   ]
  },
  {
   "cell_type": "code",
   "execution_count": null,
   "metadata": {},
   "outputs": [],
   "source": [
    "df_movies['belongs_to_collection'] = df_movies['belongs_to_collection'].apply(desanidar2)"
   ]
  },
  {
   "cell_type": "code",
   "execution_count": null,
   "metadata": {},
   "outputs": [],
   "source": [
    "def desanidar3(obj):\n",
    "    lista = []\n",
    "    for i in literal_eval (obj):\n",
    "        if i['job'] == 'Director':\n",
    "            try:\n",
    "                lista.append(i['name'])\n",
    "            except (ValueError, TypeError, KeyError):\n",
    "                pass\n",
    "    return lista"
   ]
  },
  {
   "cell_type": "code",
   "execution_count": null,
   "metadata": {},
   "outputs": [],
   "source": [
    "df_movies['crew'] = df_movies['crew'].apply(desanidar3)"
   ]
  },
  {
   "attachments": {},
   "cell_type": "markdown",
   "metadata": {},
   "source": [
    "\n",
    "\n",
    "\n",
    "EXPORTO ARCHIVOS INDIVIDUALES QUE VOY A USAR PARA LA API\n",
    "\n",
    "\n"
   ]
  },
  {
   "cell_type": "code",
   "execution_count": null,
   "metadata": {},
   "outputs": [],
   "source": [
    "#df fecha estreno\n",
    "df_estreno = df_movies[['title', 'release_date']]\n",
    "df_estreno.to_csv(r\"C:\\Users\\romin\\Documents\\PROGRAMACION\\CIENCIA DE DATOS\\HENRY\\LABS\\PROYECTO INDIVIDUAL\\PI 01 MLOps\\peliculas_por_estreno.csv\")\n"
   ]
  },
  {
   "cell_type": "code",
   "execution_count": null,
   "metadata": {},
   "outputs": [],
   "source": [
    "#df puntuacion\n",
    "df_puntuacion = df_movies[['title', 'release_year', 'popularity']]\n",
    "df_puntuacion.to_csv(r\"C:\\Users\\romin\\Documents\\PROGRAMACION\\CIENCIA DE DATOS\\HENRY\\LABS\\PROYECTO INDIVIDUAL\\PI 01 MLOps\\peliculas_por_popularidad.csv\")\n"
   ]
  },
  {
   "cell_type": "code",
   "execution_count": null,
   "metadata": {},
   "outputs": [],
   "source": [
    "#df votos\n",
    "df_votos = df_movies[['title', 'release_year', 'vote_count', 'vote_average']]\n",
    "df_votos.to_csv(r\"C:\\Users\\romin\\Documents\\PROGRAMACION\\CIENCIA DE DATOS\\HENRY\\LABS\\PROYECTO INDIVIDUAL\\PI 01 MLOps\\peliculas_por_votos.csv\")\n"
   ]
  },
  {
   "cell_type": "code",
   "execution_count": null,
   "metadata": {},
   "outputs": [],
   "source": [
    "#df directores\n",
    "df_directores = df_movies[['title', 'crew', 'return','release_year','budget', 'revenue']]\n",
    "df_directores.to_csv(r\"C:\\Users\\romin\\Documents\\PROGRAMACION\\CIENCIA DE DATOS\\HENRY\\LABS\\PROYECTO INDIVIDUAL\\PI 01 MLOps\\peliculas_por_director.csv\")\n"
   ]
  },
  {
   "cell_type": "code",
   "execution_count": null,
   "metadata": {},
   "outputs": [],
   "source": [
    "#df actores\n",
    "df_actores = df_movies[['title', 'cast', 'return']]\n",
    "df_actores.to_csv(r\"C:\\Users\\romin\\Documents\\PROGRAMACION\\CIENCIA DE DATOS\\HENRY\\LABS\\PROYECTO INDIVIDUAL\\PI 01 MLOps\\peliculas_por_actor.csv\")\n"
   ]
  },
  {
   "cell_type": "code",
   "execution_count": null,
   "metadata": {},
   "outputs": [],
   "source": []
  },
  {
   "cell_type": "code",
   "execution_count": null,
   "metadata": {},
   "outputs": [],
   "source": [
    "#df modelo\n",
    "df_movies = pd.read_csv(r\"C:\\Users\\romin\\Documents\\PROGRAMACION\\CIENCIA DE DATOS\\HENRY\\LABS\\PROYECTO INDIVIDUAL\\PI 01 MLOps\\df_movies_final.csv\")\n",
    "campos_mod = ['title', 'genres', 'id', 'release_year', 'runtime', 'popularity', 'cast', 'crew']\n",
    "df_modelo = df_movies[campos_mod]\n",
    "columnas = ['popularity', 'release_year']  # Nombres de las columnas por las cuales deseas ordenar\n",
    "df_modelo = df_modelo.sort_values(by=columnas, ascending=False)\n",
    "df_modelo = df_modelo[(df_modelo['runtime'] == 0.0) | (df_modelo['runtime']>40)]\n",
    "df_modelo['genres'] = df_modelo['genres'].str.replace(\"[\\[\\]',]\", \"\", regex=True)\n",
    "df_modelo['cast'] = df_modelo['cast'].str.replace(\"[\\[\\]',]\", \"\", regex=True)\n",
    "df_modelo['crew'] = df_modelo['crew'].str.replace(\"[\\[\\]',]\", \"\", regex=True)\n",
    "df_modelo = df_modelo.head(6000)\n",
    "df_modelo.reset_index(drop=True, inplace=True)\n",
    "df_modelo.reset_index(inplace=True)\n",
    "df_modelo\n"
   ]
  },
  {
   "cell_type": "code",
   "execution_count": null,
   "metadata": {},
   "outputs": [],
   "source": [
    "df_modelo.to_csv(r\"C:\\Users\\romin\\Documents\\PROGRAMACION\\CIENCIA DE DATOS\\HENRY\\LABS\\PROYECTO INDIVIDUAL\\PI 01 MLOps\\modelo.csv\")\n"
   ]
  },
  {
   "cell_type": "code",
   "execution_count": null,
   "metadata": {},
   "outputs": [],
   "source": [
    "# creo y exporto crew\n",
    "crew = df_movies[['crew', 'id']]\n",
    "crew.to_csv(r'C:\\Users\\romin\\Documents\\PROGRAMACION\\CIENCIA DE DATOS\\HENRY\\LABS\\PROYECTO INDIVIDUAL\\PI 01 MLOps\\crew_final.csv')\n"
   ]
  },
  {
   "cell_type": "code",
   "execution_count": null,
   "metadata": {},
   "outputs": [],
   "source": [
    "#exporto csv completo limpio\n",
    "df_movies.to_csv(r'C:\\Users\\romin\\Documents\\PROGRAMACION\\CIENCIA DE DATOS\\HENRY\\LABS\\PROYECTO INDIVIDUAL\\PI 01 MLOps\\df_movies_final.csv')\n"
   ]
  },
  {
   "cell_type": "code",
   "execution_count": null,
   "metadata": {},
   "outputs": [],
   "source": []
  }
 ],
 "metadata": {
  "kernelspec": {
   "display_name": "Python 3",
   "language": "python",
   "name": "python3"
  },
  "language_info": {
   "codemirror_mode": {
    "name": "ipython",
    "version": 3
   },
   "file_extension": ".py",
   "mimetype": "text/x-python",
   "name": "python",
   "nbconvert_exporter": "python",
   "pygments_lexer": "ipython3",
   "version": "3.11.0"
  },
  "orig_nbformat": 4
 },
 "nbformat": 4,
 "nbformat_minor": 2
}
