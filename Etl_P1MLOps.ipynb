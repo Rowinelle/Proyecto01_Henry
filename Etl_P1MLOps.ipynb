{
 "cells": [
  {
   "cell_type": "code",
   "execution_count": 2,
   "metadata": {},
   "outputs": [],
   "source": [
    "import pandas as pd\n",
    "import numpy as np\n",
    "from datetime import datetime\n",
    "from ast import literal_eval"
   ]
  },
  {
   "cell_type": "code",
   "execution_count": 3,
   "metadata": {},
   "outputs": [
    {
     "name": "stderr",
     "output_type": "stream",
     "text": [
      "C:\\Users\\romin\\AppData\\Local\\Temp\\ipykernel_18980\\2424563618.py:1: DtypeWarning: Columns (10) have mixed types. Specify dtype option on import or set low_memory=False.\n",
      "  df_mov = pd.read_csv(r\"C:\\Users\\romin\\Documents\\PROGRAMACION\\CIENCIA DE DATOS\\HENRY\\LABS\\PROYECTO INDIVIDUAL\\PI 01 MLOps\\Dataset\\movies_dataset.csv\", parse_dates = ['release_date'])\n"
     ]
    }
   ],
   "source": [
    "df_mov = pd.read_csv(r\"C:\\Users\\romin\\Documents\\PROGRAMACION\\CIENCIA DE DATOS\\HENRY\\LABS\\PROYECTO INDIVIDUAL\\PI 01 MLOps\\Dataset\\movies_dataset.csv\", parse_dates = ['release_date'])"
   ]
  },
  {
   "cell_type": "code",
   "execution_count": 4,
   "metadata": {},
   "outputs": [],
   "source": [
    "df_credits = pd.read_csv(r\"C:\\Users\\romin\\Documents\\PROGRAMACION\\CIENCIA DE DATOS\\HENRY\\LABS\\PROYECTO INDIVIDUAL\\PI 01 MLOps\\Dataset\\credits.csv\")"
   ]
  },
  {
   "cell_type": "code",
   "execution_count": null,
   "metadata": {},
   "outputs": [],
   "source": [
    "df_credits.shape"
   ]
  },
  {
   "cell_type": "code",
   "execution_count": 5,
   "metadata": {},
   "outputs": [
    {
     "data": {
      "text/plain": [
       "(44, 3)"
      ]
     },
     "execution_count": 5,
     "metadata": {},
     "output_type": "execute_result"
    }
   ],
   "source": [
    "duplicadoscred = df_credits[df_credits['id'].duplicated()]\n",
    "duplicadoscred.shape"
   ]
  },
  {
   "cell_type": "code",
   "execution_count": 6,
   "metadata": {},
   "outputs": [],
   "source": [
    "df_credits = df_credits.drop_duplicates(subset = 'id')"
   ]
  },
  {
   "attachments": {},
   "cell_type": "markdown",
   "metadata": {},
   "source": [
    "\n",
    "\n",
    "join\n",
    "\n"
   ]
  },
  {
   "cell_type": "code",
   "execution_count": 7,
   "metadata": {},
   "outputs": [],
   "source": [
    "#convierto columna id al mismo tipo que la del otro df\n",
    "df_credits['id'] = df_credits['id'].astype(str)"
   ]
  },
  {
   "cell_type": "code",
   "execution_count": 8,
   "metadata": {},
   "outputs": [
    {
     "data": {
      "text/plain": [
       "(45466, 26)"
      ]
     },
     "execution_count": 8,
     "metadata": {},
     "output_type": "execute_result"
    }
   ],
   "source": [
    "#uso outer para que traiga todo lo de movies, mas lo que tiene en comun con credits\n",
    "df_movies=df_mov.merge(df_credits, how = 'outer', on = 'id')\n",
    "df_movies.shape"
   ]
  },
  {
   "attachments": {},
   "cell_type": "markdown",
   "metadata": {},
   "source": [
    "\n",
    "\n",
    "TRANSFORMACIONES\n",
    "\n"
   ]
  },
  {
   "attachments": {},
   "cell_type": "markdown",
   "metadata": {},
   "source": [
    "RELLENAR VALORES FALTANTES EN BUDGET Y REVENUE\n",
    "Los valores nulos de los campos revenue, budget deben ser rellenados por el número 0."
   ]
  },
  {
   "cell_type": "code",
   "execution_count": 9,
   "metadata": {},
   "outputs": [
    {
     "name": "stdout",
     "output_type": "stream",
     "text": [
      "0\n",
      "6\n"
     ]
    }
   ],
   "source": [
    "#chequeo si hay valores nulos\n",
    "print(df_movies['budget'].isnull().sum())\n",
    "print(df_movies['revenue'].isnull().sum())"
   ]
  },
  {
   "cell_type": "code",
   "execution_count": 10,
   "metadata": {},
   "outputs": [],
   "source": [
    "# rellenar con 0 los nulos\n",
    "df_movies['budget'] = df_movies['budget'].fillna(0)\n",
    "df_movies['revenue'] = df_movies['revenue'].fillna(0)"
   ]
  },
  {
   "cell_type": "code",
   "execution_count": null,
   "metadata": {},
   "outputs": [],
   "source": [
    "print(type(df_movies['budget'][0]))"
   ]
  },
  {
   "cell_type": "code",
   "execution_count": 11,
   "metadata": {},
   "outputs": [
    {
     "name": "stdout",
     "output_type": "stream",
     "text": [
      "4\n",
      "4\n"
     ]
    }
   ],
   "source": [
    "#chequeo nulos en Cast y Crew porque pueden interferir al aplanar los diccionarios\n",
    "print(df_movies['cast'].isnull().sum())\n",
    "print(df_movies['crew'].isnull().sum())"
   ]
  },
  {
   "cell_type": "code",
   "execution_count": 12,
   "metadata": {},
   "outputs": [],
   "source": [
    "# elimino nan de cast y crew\n",
    "df_movies = df_movies.dropna(subset=['cast'])\n",
    "df_movies = df_movies.dropna(subset=['crew'])"
   ]
  },
  {
   "attachments": {},
   "cell_type": "markdown",
   "metadata": {},
   "source": [
    "De haber fechas, deberán tener el formato AAAA-mm-dd, además deberán crear la columna release_year donde extraerán el año de la fecha de estreno."
   ]
  },
  {
   "attachments": {},
   "cell_type": "markdown",
   "metadata": {},
   "source": [
    "COLUMNA RELEASE YEAR"
   ]
  },
  {
   "cell_type": "code",
   "execution_count": 13,
   "metadata": {},
   "outputs": [],
   "source": [
    "# separo la release date en 3, expando las columnas (anio, mes, dia)\n",
    "df_movies[['release_year','release_month', 'release_day']]=df_movies.release_date.str.split(pat='-',expand=True)"
   ]
  },
  {
   "cell_type": "code",
   "execution_count": null,
   "metadata": {},
   "outputs": [],
   "source": [
    "df_movies.shape"
   ]
  },
  {
   "cell_type": "code",
   "execution_count": 14,
   "metadata": {},
   "outputs": [
    {
     "name": "stdout",
     "output_type": "stream",
     "text": [
      "<class 'str'>\n"
     ]
    }
   ],
   "source": [
    "print(type(df_movies['release_year'][0]))"
   ]
  },
  {
   "cell_type": "code",
   "execution_count": null,
   "metadata": {},
   "outputs": [],
   "source": [
    "#df_movies.head(2)"
   ]
  },
  {
   "cell_type": "code",
   "execution_count": 15,
   "metadata": {},
   "outputs": [],
   "source": [
    "#elimino columnas que sobran\n",
    "del df_movies['release_month']\n",
    "del df_movies['release_day']"
   ]
  },
  {
   "attachments": {},
   "cell_type": "markdown",
   "metadata": {},
   "source": [
    "cambio formato de release date"
   ]
  },
  {
   "cell_type": "code",
   "execution_count": 16,
   "metadata": {},
   "outputs": [],
   "source": [
    "# pasar a formato fecha. los datos que no son strings los convierte en nulos\n",
    "df_movies['release_date'] = pd.to_datetime(df_movies['release_date'], format=\"%Y/%m/%d\", errors = 'coerce')"
   ]
  },
  {
   "cell_type": "code",
   "execution_count": null,
   "metadata": {},
   "outputs": [],
   "source": [
    "# extraigo solo la fecha, eliminando la hora\n",
    "#df_movies['release_date'] = df_movies['release_date'].dt.date"
   ]
  },
  {
   "attachments": {},
   "cell_type": "markdown",
   "metadata": {},
   "source": [
    "elimino nulos de release date"
   ]
  },
  {
   "cell_type": "code",
   "execution_count": 17,
   "metadata": {},
   "outputs": [
    {
     "name": "stdout",
     "output_type": "stream",
     "text": [
      "87\n"
     ]
    }
   ],
   "source": [
    "print(df_movies['release_date'].isnull().sum())"
   ]
  },
  {
   "cell_type": "code",
   "execution_count": 18,
   "metadata": {},
   "outputs": [],
   "source": [
    "df_movies = df_movies.dropna(subset=['release_date'])"
   ]
  },
  {
   "attachments": {},
   "cell_type": "markdown",
   "metadata": {},
   "source": [
    "modifico release year"
   ]
  },
  {
   "cell_type": "code",
   "execution_count": null,
   "metadata": {},
   "outputs": [],
   "source": [
    "# la convierto  al formato de fecha\n",
    "#df_movies['release_year'] = pd.to_datetime(df_movies['release_year'], format='%Y')\n",
    "#df_movies['release_year'] = df_movies['release_year'].dt.year"
   ]
  },
  {
   "cell_type": "code",
   "execution_count": null,
   "metadata": {},
   "outputs": [],
   "source": [
    "df_movies.head(2)"
   ]
  },
  {
   "attachments": {},
   "cell_type": "markdown",
   "metadata": {},
   "source": [
    "Crear la columna con el retorno de inversión, llamada return con los campos revenue y budget, dividiendo estas dos últimas revenue / budget, cuando no hay datos disponibles para calcularlo, deberá tomar el valor 0."
   ]
  },
  {
   "cell_type": "code",
   "execution_count": 19,
   "metadata": {},
   "outputs": [],
   "source": [
    "def calcularRetorno(row):\n",
    "    row['revenue'] = pd.to_numeric(row['revenue'], errors = 'coerce')\n",
    "    row['budget'] = pd.to_numeric(row['budget'], errors = 'coerce')\n",
    "    if row['revenue'] == 0 or row['budget'] == 0:\n",
    "        return 0\n",
    "    else:\n",
    "        return round(row['revenue'] / row['budget'],2)\n",
    "\n",
    "df_movies['return'] = np.where((df_movies['revenue'] == 0) | (df_movies['budget'] == 0), 0, df_movies.apply(calcularRetorno, axis=1))"
   ]
  },
  {
   "attachments": {},
   "cell_type": "markdown",
   "metadata": {},
   "source": [
    "eliminar columnas que no serán utilizadas"
   ]
  },
  {
   "cell_type": "code",
   "execution_count": 20,
   "metadata": {},
   "outputs": [],
   "source": [
    "del df_movies['video']\n",
    "del df_movies['imdb_id']\n",
    "del df_movies['adult']\n",
    "del df_movies['original_title']\n",
    "del df_movies['poster_path']\n",
    "del df_movies['homepage']"
   ]
  },
  {
   "attachments": {},
   "cell_type": "markdown",
   "metadata": {},
   "source": [
    "unnesting"
   ]
  },
  {
   "cell_type": "code",
   "execution_count": 21,
   "metadata": {},
   "outputs": [],
   "source": [
    "def desanidar(obj):\n",
    "    lista = []\n",
    "    for i in literal_eval (obj):\n",
    "        try:\n",
    "            lista.append(i['name'])\n",
    "        except (ValueError, TypeError, KeyError):\n",
    "            pass\n",
    "    return lista"
   ]
  },
  {
   "cell_type": "code",
   "execution_count": 22,
   "metadata": {},
   "outputs": [],
   "source": [
    "df_movies['genres'] = df_movies['genres'].apply(desanidar)\n",
    "df_movies['production_companies'] = df_movies['production_companies'].apply(desanidar)\n",
    "df_movies['production_countries'] = df_movies['production_countries'].apply(desanidar)\n",
    "df_movies['spoken_languages'] = df_movies['spoken_languages'].apply(desanidar)\n",
    "df_movies['cast'] = df_movies['cast'].apply(desanidar)"
   ]
  },
  {
   "cell_type": "code",
   "execution_count": 23,
   "metadata": {},
   "outputs": [],
   "source": [
    "import ast\n",
    "def desanidar2(obj):\n",
    "    if isinstance(obj, str) and '{' in obj:\n",
    "        dic = ast.literal_eval(obj)\n",
    "        return dic['name']\n",
    "    "
   ]
  },
  {
   "cell_type": "code",
   "execution_count": 24,
   "metadata": {},
   "outputs": [],
   "source": [
    "df_movies['belongs_to_collection'] = df_movies['belongs_to_collection'].apply(desanidar2)"
   ]
  },
  {
   "cell_type": "code",
   "execution_count": 25,
   "metadata": {},
   "outputs": [],
   "source": [
    "def desanidar3(obj):\n",
    "    lista = []\n",
    "    for i in literal_eval (obj):\n",
    "        if i['job'] == 'Director':\n",
    "            try:\n",
    "                lista.append(i['name'])\n",
    "            except (ValueError, TypeError, KeyError):\n",
    "                pass\n",
    "    return lista"
   ]
  },
  {
   "cell_type": "code",
   "execution_count": 26,
   "metadata": {},
   "outputs": [],
   "source": [
    "df_movies['crew'] = df_movies['crew'].apply(desanidar3)"
   ]
  },
  {
   "attachments": {},
   "cell_type": "markdown",
   "metadata": {},
   "source": [
    "\n",
    "\n",
    "\n",
    "EXPORTO ARCHIVOS INDIVIDUALES QUE VOY A USAR PARA LA API\n",
    "\n",
    "\n"
   ]
  },
  {
   "cell_type": "code",
   "execution_count": null,
   "metadata": {},
   "outputs": [],
   "source": [
    "#df fecha estreno\n",
    "df_estreno = df_movies[['title', 'release_date']]\n",
    "df_estreno.to_csv(r\"C:\\Users\\romin\\Documents\\PROGRAMACION\\CIENCIA DE DATOS\\HENRY\\LABS\\PROYECTO INDIVIDUAL\\PI 01 MLOps\\peliculas_por_estreno.csv\")\n"
   ]
  },
  {
   "cell_type": "code",
   "execution_count": null,
   "metadata": {},
   "outputs": [],
   "source": [
    "#df puntuacion\n",
    "df_puntuacion = df_movies[['title', 'release_year', 'popularity']]\n",
    "df_puntuacion.to_csv(r\"C:\\Users\\romin\\Documents\\PROGRAMACION\\CIENCIA DE DATOS\\HENRY\\LABS\\PROYECTO INDIVIDUAL\\PI 01 MLOps\\peliculas_por_popularidad.csv\")\n"
   ]
  },
  {
   "cell_type": "code",
   "execution_count": null,
   "metadata": {},
   "outputs": [],
   "source": [
    "#df votos\n",
    "df_votos = df_movies[['title', 'release_year', 'vote_count', 'vote_average']]\n",
    "df_votos.to_csv(r\"C:\\Users\\romin\\Documents\\PROGRAMACION\\CIENCIA DE DATOS\\HENRY\\LABS\\PROYECTO INDIVIDUAL\\PI 01 MLOps\\peliculas_por_votos.csv\")\n"
   ]
  },
  {
   "cell_type": "code",
   "execution_count": null,
   "metadata": {},
   "outputs": [],
   "source": [
    "#df directores\n",
    "df_directores = df_movies[['title', 'crew', 'return','release_year','budget', 'revenue']]\n",
    "df_directores.to_csv(r\"C:\\Users\\romin\\Documents\\PROGRAMACION\\CIENCIA DE DATOS\\HENRY\\LABS\\PROYECTO INDIVIDUAL\\PI 01 MLOps\\peliculas_por_director.csv\")\n"
   ]
  },
  {
   "cell_type": "code",
   "execution_count": null,
   "metadata": {},
   "outputs": [],
   "source": [
    "#df actores\n",
    "df_actores = df_movies[['title', 'cast', 'return']]\n",
    "df_actores.to_csv(r\"C:\\Users\\romin\\Documents\\PROGRAMACION\\CIENCIA DE DATOS\\HENRY\\LABS\\PROYECTO INDIVIDUAL\\PI 01 MLOps\\peliculas_por_actor.csv\")\n"
   ]
  },
  {
   "cell_type": "code",
   "execution_count": null,
   "metadata": {},
   "outputs": [],
   "source": []
  },
  {
   "cell_type": "code",
   "execution_count": 43,
   "metadata": {},
   "outputs": [
    {
     "data": {
      "text/html": [
       "<div>\n",
       "<style scoped>\n",
       "    .dataframe tbody tr th:only-of-type {\n",
       "        vertical-align: middle;\n",
       "    }\n",
       "\n",
       "    .dataframe tbody tr th {\n",
       "        vertical-align: top;\n",
       "    }\n",
       "\n",
       "    .dataframe thead th {\n",
       "        text-align: right;\n",
       "    }\n",
       "</style>\n",
       "<table border=\"1\" class=\"dataframe\">\n",
       "  <thead>\n",
       "    <tr style=\"text-align: right;\">\n",
       "      <th></th>\n",
       "      <th>index</th>\n",
       "      <th>title</th>\n",
       "      <th>genres</th>\n",
       "      <th>id</th>\n",
       "      <th>release_year</th>\n",
       "      <th>runtime</th>\n",
       "      <th>popularity</th>\n",
       "      <th>cast</th>\n",
       "      <th>crew</th>\n",
       "    </tr>\n",
       "  </thead>\n",
       "  <tbody>\n",
       "    <tr>\n",
       "      <th>0</th>\n",
       "      <td>0</td>\n",
       "      <td>Minions</td>\n",
       "      <td>Family Animation Adventure Comedy</td>\n",
       "      <td>211672</td>\n",
       "      <td>2015</td>\n",
       "      <td>91.0</td>\n",
       "      <td>547.488298</td>\n",
       "      <td>Sandra Bullock Jon Hamm Michael Keaton Allison...</td>\n",
       "      <td>Kyle Balda Pierre Coffin</td>\n",
       "    </tr>\n",
       "    <tr>\n",
       "      <th>1</th>\n",
       "      <td>1</td>\n",
       "      <td>Wonder Woman</td>\n",
       "      <td>Action Adventure Fantasy</td>\n",
       "      <td>297762</td>\n",
       "      <td>2017</td>\n",
       "      <td>141.0</td>\n",
       "      <td>294.337037</td>\n",
       "      <td>Gal Gadot Chris Pine Robin Wright Danny Huston...</td>\n",
       "      <td>Patty Jenkins</td>\n",
       "    </tr>\n",
       "    <tr>\n",
       "      <th>2</th>\n",
       "      <td>2</td>\n",
       "      <td>Beauty and the Beast</td>\n",
       "      <td>Family Fantasy Romance</td>\n",
       "      <td>321612</td>\n",
       "      <td>2017</td>\n",
       "      <td>129.0</td>\n",
       "      <td>287.253654</td>\n",
       "      <td>Emma Watson Dan Stevens Luke Evans Kevin Kline...</td>\n",
       "      <td>Bill Condon</td>\n",
       "    </tr>\n",
       "    <tr>\n",
       "      <th>3</th>\n",
       "      <td>3</td>\n",
       "      <td>Baby Driver</td>\n",
       "      <td>Action Crime</td>\n",
       "      <td>339403</td>\n",
       "      <td>2017</td>\n",
       "      <td>113.0</td>\n",
       "      <td>228.032744</td>\n",
       "      <td>Ansel Elgort Lily James Kevin Spacey Jamie Fox...</td>\n",
       "      <td>Edgar Wright</td>\n",
       "    </tr>\n",
       "    <tr>\n",
       "      <th>4</th>\n",
       "      <td>4</td>\n",
       "      <td>Big Hero 6</td>\n",
       "      <td>Adventure Family Animation Action Comedy</td>\n",
       "      <td>177572</td>\n",
       "      <td>2014</td>\n",
       "      <td>102.0</td>\n",
       "      <td>213.849907</td>\n",
       "      <td>Scott Adsit Ryan Potter Daniel Henney T.J. Mil...</td>\n",
       "      <td>Chris Williams Don Hall</td>\n",
       "    </tr>\n",
       "    <tr>\n",
       "      <th>...</th>\n",
       "      <td>...</td>\n",
       "      <td>...</td>\n",
       "      <td>...</td>\n",
       "      <td>...</td>\n",
       "      <td>...</td>\n",
       "      <td>...</td>\n",
       "      <td>...</td>\n",
       "      <td>...</td>\n",
       "      <td>...</td>\n",
       "    </tr>\n",
       "    <tr>\n",
       "      <th>5995</th>\n",
       "      <td>5995</td>\n",
       "      <td>Angels Sing</td>\n",
       "      <td>TV Movie Family Drama</td>\n",
       "      <td>57210</td>\n",
       "      <td>2013</td>\n",
       "      <td>87.0</td>\n",
       "      <td>7.073059</td>\n",
       "      <td>Chandler Canterbury Willie Nelson Harry Connic...</td>\n",
       "      <td>Tim McCanlies</td>\n",
       "    </tr>\n",
       "    <tr>\n",
       "      <th>5996</th>\n",
       "      <td>5996</td>\n",
       "      <td>Pokémon 4Ever: Celebi - Voice of the Forest</td>\n",
       "      <td>Adventure Fantasy Animation Science Fiction Fa...</td>\n",
       "      <td>12600</td>\n",
       "      <td>2001</td>\n",
       "      <td>75.0</td>\n",
       "      <td>7.072301</td>\n",
       "      <td>Veronica Taylor Rachael Lillis Maddie Blaustei...</td>\n",
       "      <td>Kunihiko Yuyama Jim Malone</td>\n",
       "    </tr>\n",
       "    <tr>\n",
       "      <th>5997</th>\n",
       "      <td>5997</td>\n",
       "      <td>Sleep Tight</td>\n",
       "      <td>Thriller</td>\n",
       "      <td>77495</td>\n",
       "      <td>2011</td>\n",
       "      <td>107.0</td>\n",
       "      <td>7.071300</td>\n",
       "      <td>Luis Tosar Marta Etura  Alberto San Juan Petra...</td>\n",
       "      <td>Jaume Balagueró</td>\n",
       "    </tr>\n",
       "    <tr>\n",
       "      <th>5998</th>\n",
       "      <td>5998</td>\n",
       "      <td>El Dorado</td>\n",
       "      <td>Western</td>\n",
       "      <td>6644</td>\n",
       "      <td>1966</td>\n",
       "      <td>120.0</td>\n",
       "      <td>7.070669</td>\n",
       "      <td>John Wayne Robert Mitchum James Caan Charlene ...</td>\n",
       "      <td>Howard Hawks</td>\n",
       "    </tr>\n",
       "    <tr>\n",
       "      <th>5999</th>\n",
       "      <td>5999</td>\n",
       "      <td>Attraction</td>\n",
       "      <td>Drama Romance Science Fiction</td>\n",
       "      <td>401513</td>\n",
       "      <td>2017</td>\n",
       "      <td>130.0</td>\n",
       "      <td>7.070085</td>\n",
       "      <td>Rinal Mukhametov Sergey Garmash Oleg Menshikov...</td>\n",
       "      <td>Fyodor Bondarchuk</td>\n",
       "    </tr>\n",
       "  </tbody>\n",
       "</table>\n",
       "<p>6000 rows × 9 columns</p>\n",
       "</div>"
      ],
      "text/plain": [
       "      index                                        title  \\\n",
       "0         0                                      Minions   \n",
       "1         1                                 Wonder Woman   \n",
       "2         2                         Beauty and the Beast   \n",
       "3         3                                  Baby Driver   \n",
       "4         4                                   Big Hero 6   \n",
       "...     ...                                          ...   \n",
       "5995   5995                                  Angels Sing   \n",
       "5996   5996  Pokémon 4Ever: Celebi - Voice of the Forest   \n",
       "5997   5997                                  Sleep Tight   \n",
       "5998   5998                                    El Dorado   \n",
       "5999   5999                                   Attraction   \n",
       "\n",
       "                                                 genres      id  release_year  \\\n",
       "0                     Family Animation Adventure Comedy  211672          2015   \n",
       "1                              Action Adventure Fantasy  297762          2017   \n",
       "2                                Family Fantasy Romance  321612          2017   \n",
       "3                                          Action Crime  339403          2017   \n",
       "4              Adventure Family Animation Action Comedy  177572          2014   \n",
       "...                                                 ...     ...           ...   \n",
       "5995                              TV Movie Family Drama   57210          2013   \n",
       "5996  Adventure Fantasy Animation Science Fiction Fa...   12600          2001   \n",
       "5997                                           Thriller   77495          2011   \n",
       "5998                                            Western    6644          1966   \n",
       "5999                      Drama Romance Science Fiction  401513          2017   \n",
       "\n",
       "      runtime  popularity                                               cast  \\\n",
       "0        91.0  547.488298  Sandra Bullock Jon Hamm Michael Keaton Allison...   \n",
       "1       141.0  294.337037  Gal Gadot Chris Pine Robin Wright Danny Huston...   \n",
       "2       129.0  287.253654  Emma Watson Dan Stevens Luke Evans Kevin Kline...   \n",
       "3       113.0  228.032744  Ansel Elgort Lily James Kevin Spacey Jamie Fox...   \n",
       "4       102.0  213.849907  Scott Adsit Ryan Potter Daniel Henney T.J. Mil...   \n",
       "...       ...         ...                                                ...   \n",
       "5995     87.0    7.073059  Chandler Canterbury Willie Nelson Harry Connic...   \n",
       "5996     75.0    7.072301  Veronica Taylor Rachael Lillis Maddie Blaustei...   \n",
       "5997    107.0    7.071300  Luis Tosar Marta Etura  Alberto San Juan Petra...   \n",
       "5998    120.0    7.070669  John Wayne Robert Mitchum James Caan Charlene ...   \n",
       "5999    130.0    7.070085  Rinal Mukhametov Sergey Garmash Oleg Menshikov...   \n",
       "\n",
       "                            crew  \n",
       "0       Kyle Balda Pierre Coffin  \n",
       "1                  Patty Jenkins  \n",
       "2                    Bill Condon  \n",
       "3                   Edgar Wright  \n",
       "4        Chris Williams Don Hall  \n",
       "...                          ...  \n",
       "5995               Tim McCanlies  \n",
       "5996  Kunihiko Yuyama Jim Malone  \n",
       "5997             Jaume Balagueró  \n",
       "5998                Howard Hawks  \n",
       "5999           Fyodor Bondarchuk  \n",
       "\n",
       "[6000 rows x 9 columns]"
      ]
     },
     "execution_count": 43,
     "metadata": {},
     "output_type": "execute_result"
    }
   ],
   "source": [
    "#df modelo\n",
    "df_movies = pd.read_csv(r\"C:\\Users\\romin\\Documents\\PROGRAMACION\\CIENCIA DE DATOS\\HENRY\\LABS\\PROYECTO INDIVIDUAL\\PI 01 MLOps\\df_movies_final.csv\")\n",
    "campos_mod = ['title', 'genres', 'id', 'release_year', 'runtime', 'popularity', 'cast', 'crew']\n",
    "df_modelo = df_movies[campos_mod]\n",
    "columnas = ['popularity', 'release_year']  # Nombres de las columnas por las cuales deseas ordenar\n",
    "df_modelo = df_modelo.sort_values(by=columnas, ascending=False)\n",
    "df_modelo = df_modelo[(df_modelo['runtime'] == 0.0) | (df_modelo['runtime']>40)]\n",
    "df_modelo['genres'] = df_modelo['genres'].str.replace(\"[\\[\\]',]\", \"\", regex=True)\n",
    "df_modelo['cast'] = df_modelo['cast'].str.replace(\"[\\[\\]',]\", \"\", regex=True)\n",
    "df_modelo['crew'] = df_modelo['crew'].str.replace(\"[\\[\\]',]\", \"\", regex=True)\n",
    "df_modelo = df_modelo.head(6000)\n",
    "df_modelo.reset_index(drop=True, inplace=True)\n",
    "df_modelo.reset_index(inplace=True)\n",
    "df_modelo\n",
    "#df_modelo.to_csv(r\"C:\\Users\\romin\\Documents\\PROGRAMACION\\CIENCIA DE DATOS\\HENRY\\LABS\\PROYECTO INDIVIDUAL\\PI 01 MLOps\\modelo.csv\")\n"
   ]
  },
  {
   "cell_type": "code",
   "execution_count": 45,
   "metadata": {},
   "outputs": [],
   "source": [
    "df_modelo.to_csv(r\"C:\\Users\\romin\\Documents\\PROGRAMACION\\CIENCIA DE DATOS\\HENRY\\LABS\\PROYECTO INDIVIDUAL\\PI 01 MLOps\\modelo.csv\")\n"
   ]
  },
  {
   "cell_type": "code",
   "execution_count": 29,
   "metadata": {},
   "outputs": [
    {
     "name": "stdout",
     "output_type": "stream",
     "text": [
      "<class 'pandas.core.frame.DataFrame'>\n",
      "Int64Index: 45375 entries, 0 to 45465\n",
      "Data columns (total 8 columns):\n",
      " #   Column        Non-Null Count  Dtype  \n",
      "---  ------        --------------  -----  \n",
      " 0   title         45375 non-null  object \n",
      " 1   genres        45375 non-null  object \n",
      " 2   id            45375 non-null  object \n",
      " 3   release_year  45375 non-null  object \n",
      " 4   runtime       45129 non-null  float64\n",
      " 5   popularity    45375 non-null  object \n",
      " 6   cast          45375 non-null  object \n",
      " 7   crew          45375 non-null  object \n",
      "dtypes: float64(1), object(7)\n",
      "memory usage: 3.1+ MB\n"
     ]
    }
   ],
   "source": [
    "df_modelo.info()"
   ]
  },
  {
   "cell_type": "code",
   "execution_count": null,
   "metadata": {},
   "outputs": [],
   "source": [
    "# creo y exporto crew\n",
    "crew = df_movies[['crew', 'id']]\n",
    "crew.to_csv(r'C:\\Users\\romin\\Documents\\PROGRAMACION\\CIENCIA DE DATOS\\HENRY\\LABS\\PROYECTO INDIVIDUAL\\PI 01 MLOps\\crew_final.csv')\n"
   ]
  },
  {
   "cell_type": "code",
   "execution_count": null,
   "metadata": {},
   "outputs": [],
   "source": [
    "#exporto csv completo limpio\n",
    "df_movies.to_csv(r'C:\\Users\\romin\\Documents\\PROGRAMACION\\CIENCIA DE DATOS\\HENRY\\LABS\\PROYECTO INDIVIDUAL\\PI 01 MLOps\\df_movies_final.csv')\n"
   ]
  },
  {
   "cell_type": "code",
   "execution_count": null,
   "metadata": {},
   "outputs": [],
   "source": []
  }
 ],
 "metadata": {
  "kernelspec": {
   "display_name": "Python 3",
   "language": "python",
   "name": "python3"
  },
  "language_info": {
   "codemirror_mode": {
    "name": "ipython",
    "version": 3
   },
   "file_extension": ".py",
   "mimetype": "text/x-python",
   "name": "python",
   "nbconvert_exporter": "python",
   "pygments_lexer": "ipython3",
   "version": "3.11.0"
  },
  "orig_nbformat": 4
 },
 "nbformat": 4,
 "nbformat_minor": 2
}
