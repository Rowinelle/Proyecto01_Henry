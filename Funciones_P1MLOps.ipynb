{
 "cells": [
  {
   "cell_type": "code",
   "execution_count": 2,
   "metadata": {},
   "outputs": [],
   "source": [
    "import pandas as pd\n",
    "import numpy as np\n",
    "import datetime\n",
    "from datetime import datetime\n",
    "import unicodedata"
   ]
  },
  {
   "cell_type": "code",
   "execution_count": 3,
   "metadata": {},
   "outputs": [],
   "source": [
    "fecha = pd.read_csv('datasets/peliculas_por_estreno.csv', parse_dates = ['release_date'])\n",
    "popularidad = pd.read_csv('datasets/peliculas_por_popularidad.csv')\n",
    "votos = pd.read_csv('datasets/peliculas_por_votos.csv')\n",
    "actores = pd.read_csv('datasets/peliculas_por_actor.csv')\n",
    "directores = pd.read_csv('datasets/peliculas_por_director.csv', parse_dates=['release_date'])\n"
   ]
  },
  {
   "cell_type": "code",
   "execution_count": null,
   "metadata": {},
   "outputs": [],
   "source": [
    "df_movies = pd.read_csv(r\"C:\\Users\\romin\\Documents\\PROGRAMACION\\CIENCIA DE DATOS\\HENRY\\LABS\\PROYECTO INDIVIDUAL\\PI 01 MLOps\\df_movies_final.csv\", parse_dates = ['release_date'])"
   ]
  },
  {
   "cell_type": "code",
   "execution_count": null,
   "metadata": {},
   "outputs": [],
   "source": [
    "#df_credits = pd.read_csv(r\"C:\\Users\\romin\\Documents\\PROGRAMACION\\CIENCIA DE DATOS\\HENRY\\LABS\\PROYECTO INDIVIDUAL\\PI 01 MLOps\\df_credits2_final.csv\")"
   ]
  },
  {
   "cell_type": "code",
   "execution_count": null,
   "metadata": {},
   "outputs": [],
   "source": [
    "#del df_credits['Unnamed: 0']"
   ]
  },
  {
   "cell_type": "code",
   "execution_count": 4,
   "metadata": {},
   "outputs": [],
   "source": [
    "def trad_fechas(dato):\n",
    "    diames_norm = unicodedata.normalize('NFD', dato)\n",
    "    diames_norm = diames_norm.encode('ascii', 'ignore').decode('utf-8')\n",
    "    diames_norm = diames_norm.lower()\n",
    "\n",
    "    mapping = {\n",
    "        'lunes': 'Monday',\n",
    "        'martes': 'Tuesday',\n",
    "        'miercoles': 'Wednesday',\n",
    "        'jueves': 'Thursday',\n",
    "        'viernes': 'Friday',\n",
    "        'sabado': 'Saturday',\n",
    "        'domingo': 'Sunday',\n",
    "        'enero': 'January',\n",
    "        'febrero': 'February',\n",
    "        'marzo': 'March',\n",
    "        'abril': 'April',\n",
    "        'mayo': 'May',\n",
    "        'junio': 'June',\n",
    "        'julio': 'July',\n",
    "        'agosto': 'August',\n",
    "        'septiembre': 'September',\n",
    "        'octubre': 'October',\n",
    "        'noviembre': 'November',\n",
    "        'diciembre': 'December',\n",
    "    }\n",
    "\n",
    "    return mapping.get(diames_norm, diames_norm)\n"
   ]
  },
  {
   "attachments": {},
   "cell_type": "markdown",
   "metadata": {},
   "source": [
    "\n",
    "\n",
    "CONSULTA 1\n",
    "def cantidad_filmaciones_mes( Mes ): Se ingresa un mes en idioma Español. Debe devolver la cantidad de películas que fueron estrenadas en el mes consultado en la totalidad del dataset.\n",
    "\n"
   ]
  },
  {
   "cell_type": "code",
   "execution_count": 5,
   "metadata": {},
   "outputs": [],
   "source": [
    "def cantidad_filmaciones_mes(mes:str):\n",
    "    mes_num = datetime.strptime(trad_fechas(mes), \"%B\").month\n",
    "    pel_mes = fecha[fecha['release_date'].dt.month == mes_num]\n",
    "    cantidad = len(pel_mes)\n",
    "    return ('{} películas fueron estrenadas en el mes de {}'.format(cantidad, mes))"
   ]
  },
  {
   "cell_type": "code",
   "execution_count": 6,
   "metadata": {},
   "outputs": [
    {
     "data": {
      "text/plain": [
       "'5912 películas fueron estrenadas en el mes de enero'"
      ]
     },
     "execution_count": 6,
     "metadata": {},
     "output_type": "execute_result"
    }
   ],
   "source": [
    "cantidad_filmaciones_mes('enero')"
   ]
  },
  {
   "attachments": {},
   "cell_type": "markdown",
   "metadata": {},
   "source": [
    "\n",
    "\n",
    "CONSULTA 2\n",
    "def cantidad_filmaciones_dia( Dia ): Se ingresa un día en idioma Español. Debe devolver la cantidad de películas que fueron estrenadas en día consultado en la totalidad del dataset.\n",
    "\n"
   ]
  },
  {
   "cell_type": "code",
   "execution_count": 7,
   "metadata": {},
   "outputs": [],
   "source": [
    "def cantidad_filmaciones_dia(dia:str):\n",
    "    dia_tr = trad_fechas(dia)\n",
    "    pel_dia = fecha[fecha['release_date'].dt.strftime('%A') == dia_tr] \n",
    "    cantidaddia = len(pel_dia)\n",
    "    return ('{} películas fueron estrenadas en los días {}'.format(cantidaddia, dia))"
   ]
  },
  {
   "cell_type": "code",
   "execution_count": 8,
   "metadata": {},
   "outputs": [
    {
     "data": {
      "text/plain": [
       "'7035 películas fueron estrenadas en los días miercoles'"
      ]
     },
     "execution_count": 8,
     "metadata": {},
     "output_type": "execute_result"
    }
   ],
   "source": [
    "cantidad_filmaciones_dia('miercoles')"
   ]
  },
  {
   "attachments": {},
   "cell_type": "markdown",
   "metadata": {},
   "source": [
    "\n",
    "\n",
    "CONSULTA 3\n",
    "def score_titulo( titulo_de_la_filmación ): Se ingresa el título de una filmación esperando como respuesta el título, el año de estreno y el score.\n",
    "\n",
    "\n"
   ]
  },
  {
   "cell_type": "code",
   "execution_count": 11,
   "metadata": {},
   "outputs": [],
   "source": [
    "def score_titulo(pelicula: str):\n",
    "    filtro = popularidad['title'] == pelicula\n",
    "    score = popularidad.loc[filtro, 'popularity'].values[0] if filtro.any() else None\n",
    "    año = popularidad.loc[filtro, 'release_year'].values[0] if filtro.any() else None\n",
    "    return ('La película {} fue estrenada en el año {} con un score de {}'.format(pelicula, año, round(score, 2)))"
   ]
  },
  {
   "cell_type": "code",
   "execution_count": 12,
   "metadata": {},
   "outputs": [
    {
     "data": {
      "text/plain": [
       "'La película Avatar fue estrenada en el año 2009 con un score de 185.07'"
      ]
     },
     "execution_count": 12,
     "metadata": {},
     "output_type": "execute_result"
    }
   ],
   "source": [
    "score_titulo('Avatar')"
   ]
  },
  {
   "attachments": {},
   "cell_type": "markdown",
   "metadata": {},
   "source": [
    "\n",
    "\n",
    "\n",
    "CONSULTA 4\n",
    "def votos_titulo( titulo_de_la_filmación ): Se ingresa el título de una filmación esperando como respuesta el título, la cantidad de votos y el valor promedio de las votaciones. La misma variable deberá de contar con al menos 2000 valoraciones, caso contrario, debemos contar con un mensaje avisando que no cumple esta condición y que por ende, no se devuelve ningun valor.\n",
    "\n",
    "\n"
   ]
  },
  {
   "cell_type": "code",
   "execution_count": 13,
   "metadata": {},
   "outputs": [],
   "source": [
    "def votos_titulo(pelicula: str):\n",
    "    filtro = (votos['title'] == pelicula) \n",
    "    df_filtrado = votos.loc[filtro].sort_values('vote_count', ascending=False)\n",
    "    \n",
    "    vote_count = df_filtrado.iloc[0]['vote_count']\n",
    "    \n",
    "    if vote_count < 2000:\n",
    "        return 'La película {} no cuenta con puntajes suficientes.'.format(pelicula)\n",
    "    \n",
    "    total_votos = df_filtrado.iloc[0]['vote_count']\n",
    "    promedio = df_filtrado.iloc[0]['vote_average']\n",
    "    año = df_filtrado.iloc[0]['release_year']\n",
    "    \n",
    "    return ('La película {} fue estrenada en el año {}. La misma cuenta con un total de {} valoraciones, con un promedio de {}'.format(pelicula, año, total_votos, promedio))\n"
   ]
  },
  {
   "cell_type": "code",
   "execution_count": 14,
   "metadata": {},
   "outputs": [
    {
     "data": {
      "text/plain": [
       "'La película Wonder Woman fue estrenada en el año 2017. La misma cuenta con un total de 5025.0 valoraciones, con un promedio de 7.2'"
      ]
     },
     "execution_count": 14,
     "metadata": {},
     "output_type": "execute_result"
    }
   ],
   "source": [
    "votos_titulo('Wonder Woman')"
   ]
  },
  {
   "attachments": {},
   "cell_type": "markdown",
   "metadata": {},
   "source": [
    "\n",
    "\n",
    "CONSULTA 5\n",
    "def get_actor( nombre_actor ): Se ingresa el nombre de un actor que se encuentre dentro de un dataset debiendo devolver el éxito del mismo medido a través del retorno. Además, la cantidad de películas que en las que ha participado y el promedio de retorno. La definición no deberá considerar directores.\n",
    "\n",
    "\n"
   ]
  },
  {
   "cell_type": "code",
   "execution_count": 17,
   "metadata": {},
   "outputs": [],
   "source": [
    "def get_actor(actor: str):\n",
    "    cantidad = actores['cast'].apply(lambda x: actor in x).sum()\n",
    "    retorno = actores.loc[actores['cast'].apply(lambda x: actor in x), 'return'].sum()\n",
    "    promedio = actores.loc[actores['cast'].apply(lambda x: actor in x), 'return'].mean()\n",
    "    return ('El actor {} ha participado de {} de filmaciones, el mismo ha conseguido un retorno de {}, con un promedio de {} por filmación'. format(actor, cantidad, round(retorno,2), round(promedio,2)))\n"
   ]
  },
  {
   "cell_type": "code",
   "execution_count": 18,
   "metadata": {},
   "outputs": [
    {
     "data": {
      "text/plain": [
       "'El actor Tom Hanks ha participado de 71 de filmaciones, el mismo ha conseguido un retorno de 178.85, con un promedio de 2.52 por filmación'"
      ]
     },
     "execution_count": 18,
     "metadata": {},
     "output_type": "execute_result"
    }
   ],
   "source": [
    "get_actor('Tom Hanks')"
   ]
  },
  {
   "attachments": {},
   "cell_type": "markdown",
   "metadata": {},
   "source": [
    "\n",
    "\n",
    "CONSULTa 6\n",
    "def get_director( nombre_director ): Se ingresa el nombre de un director que se encuentre dentro de un dataset debiendo devolver el éxito del mismo medido a través del retorno. Además, deberá devolver el nombre de cada película con la fecha de lanzamiento, retorno individual, costo y ganancia de la misma.\n",
    "\n",
    "\n"
   ]
  },
  {
   "cell_type": "code",
   "execution_count": 21,
   "metadata": {},
   "outputs": [],
   "source": [
    "def get_director(nombre_director: str):\n",
    "    df_filtrado = directores[directores['crew'].apply(lambda x: nombre_director in x)][['title', 'release_year', 'return', 'budget', 'revenue']]\n",
    "    peliculas = df_filtrado['title']\n",
    "    año = df_filtrado['release_year']\n",
    "    retorno_pelicula = df_filtrado['return']\n",
    "    budget_pelicula = df_filtrado['budget']\n",
    "    revenue_pelicula = df_filtrado['revenue']\n",
    "    retorno_total = df_filtrado['revenue'].sum()\n",
    "    return {'director': nombre_director, 'retorno_total_director':retorno_total, 'peliculas':peliculas, 'anio': año, 'retorno_pelicula': retorno_pelicula, 'budget_pelicula': budget_pelicula, 'revenue_pelicula': revenue_pelicula}\n"
   ]
  },
  {
   "cell_type": "code",
   "execution_count": 22,
   "metadata": {},
   "outputs": [
    {
     "data": {
      "text/plain": [
       "{'director': 'Martin Scorsese',\n",
       " 'retorno_total_director': 1990982842.0,\n",
       " 'peliculas': 15                                                  Casino\n",
       " 109                                            Taxi Driver\n",
       " 407                                   The Age of Innocence\n",
       " 1171                                            GoodFellas\n",
       " 1186                                           Raging Bull\n",
       " 1296                                             Cape Fear\n",
       " 1648                                                Kundun\n",
       " 1913                         The Last Temptation of Christ\n",
       " 2361                                    The Color of Money\n",
       " 2861                                 Bringing Out the Dead\n",
       " 4500                                      New York Stories\n",
       " 5143                                         Boxcar Bertha\n",
       " 5253                                        The Last Waltz\n",
       " 5822                                     Gangs of New York\n",
       " 5867                                    The King of Comedy\n",
       " 7270                                           After Hours\n",
       " 7594                                          Mean Streets\n",
       " 8033                                    My Voyage to Italy\n",
       " 8117                       Alice Doesn't Live Here Anymore\n",
       " 8119                        Who's That Knocking at My Door\n",
       " 8780                                    New York, New York\n",
       " 9546                                           The Aviator\n",
       " 10427                         No Direction Home: Bob Dylan\n",
       " 10865    A Personal Journey with Martin Scorsese Throug...\n",
       " 11323                                         The Departed\n",
       " 12529                                        Shine a Light\n",
       " 14836                                       Shutter Island\n",
       " 16764                                      Italianamerican\n",
       " 16788                                      Public Speaking\n",
       " 17580                                     A Letter to Elia\n",
       " 17669            American Boy: A Profile of: Steven Prince\n",
       " 17677                                        Street Scenes\n",
       " 18097        George Harrison: Living in the Material World\n",
       " 18098                                                 Hugo\n",
       " 22120                              The Wolf of Wall Street\n",
       " 25845                                        The Big Shave\n",
       " 25846    What's a Nice Girl Like You Doing in a Place L...\n",
       " 32619                                 The 50 Year Argument\n",
       " 32848                The Key to Reserva (La clave Reserva)\n",
       " 33330                                              Silence\n",
       " 36249                                                  Bad\n",
       " Name: title, dtype: object,\n",
       " 'anio': 15       1995\n",
       " 109      1976\n",
       " 407      1993\n",
       " 1171     1990\n",
       " 1186     1980\n",
       " 1296     1991\n",
       " 1648     1997\n",
       " 1913     1988\n",
       " 2361     1986\n",
       " 2861     1999\n",
       " 4500     1989\n",
       " 5143     1972\n",
       " 5253     1978\n",
       " 5822     2002\n",
       " 5867     1982\n",
       " 7270     1985\n",
       " 7594     1973\n",
       " 8033     1999\n",
       " 8117     1974\n",
       " 8119     1967\n",
       " 8780     1977\n",
       " 9546     2004\n",
       " 10427    2005\n",
       " 10865    1995\n",
       " 11323    2006\n",
       " 12529    2008\n",
       " 14836    2010\n",
       " 16764    1974\n",
       " 16788    2010\n",
       " 17580    2010\n",
       " 17669    1978\n",
       " 17677    1970\n",
       " 18097    2011\n",
       " 18098    2011\n",
       " 22120    2013\n",
       " 25845    1968\n",
       " 25846    1963\n",
       " 32619    2014\n",
       " 32848    2007\n",
       " 33330    2016\n",
       " 36249    1987\n",
       " Name: release_year, dtype: int64,\n",
       " 'retorno_pelicula': 15        2.23\n",
       " 109      21.74\n",
       " 407       0.95\n",
       " 1171      1.87\n",
       " 1186      1.28\n",
       " 1296      5.21\n",
       " 1648      0.20\n",
       " 1913      1.20\n",
       " 2361      3.79\n",
       " 2861      0.00\n",
       " 4500      0.00\n",
       " 5143      0.00\n",
       " 5253      0.00\n",
       " 5822      1.94\n",
       " 5867      0.00\n",
       " 7270      2.36\n",
       " 7594      6.00\n",
       " 8033      0.00\n",
       " 8117      0.00\n",
       " 8119      0.00\n",
       " 8780      0.00\n",
       " 9546      0.88\n",
       " 10427     0.00\n",
       " 10865     0.00\n",
       " 11323     3.22\n",
       " 12529     0.00\n",
       " 14836     3.69\n",
       " 16764     0.00\n",
       " 16788     0.00\n",
       " 17580     0.00\n",
       " 17669     0.00\n",
       " 17677     0.00\n",
       " 18097     0.00\n",
       " 18098     1.09\n",
       " 22120     3.92\n",
       " 25845     0.00\n",
       " 25846     0.00\n",
       " 32619     0.00\n",
       " 32848     0.00\n",
       " 33330     0.52\n",
       " 36249     0.00\n",
       " Name: return, dtype: float64,\n",
       " 'budget_pelicula': 15        52000000\n",
       " 109        1300000\n",
       " 407       34000000\n",
       " 1171      25000000\n",
       " 1186      18000000\n",
       " 1296      35000000\n",
       " 1648      28000000\n",
       " 1913       7000000\n",
       " 2361      13800000\n",
       " 2861      32000000\n",
       " 4500      15000000\n",
       " 5143        600000\n",
       " 5253             0\n",
       " 5822     100000000\n",
       " 5867      20000000\n",
       " 7270       4500000\n",
       " 7594        500000\n",
       " 8033             0\n",
       " 8117             0\n",
       " 8119             0\n",
       " 8780             0\n",
       " 9546     116000000\n",
       " 10427      2000000\n",
       " 10865            0\n",
       " 11323     90000000\n",
       " 12529            0\n",
       " 14836     80000000\n",
       " 16764            0\n",
       " 16788            0\n",
       " 17580            0\n",
       " 17669       155000\n",
       " 17677            0\n",
       " 18097            0\n",
       " 18098    170000000\n",
       " 22120    100000000\n",
       " 25845            0\n",
       " 25846            0\n",
       " 32619            0\n",
       " 32848            0\n",
       " 33330     46000000\n",
       " 36249      2000000\n",
       " Name: budget, dtype: int64,\n",
       " 'revenue_pelicula': 15       116112375.0\n",
       " 109       28262574.0\n",
       " 407       32255440.0\n",
       " 1171      46836394.0\n",
       " 1186      23000000.0\n",
       " 1296     182300000.0\n",
       " 1648       5684789.0\n",
       " 1913       8373585.0\n",
       " 2361      52293982.0\n",
       " 2861             0.0\n",
       " 4500             0.0\n",
       " 5143             0.0\n",
       " 5253        321952.0\n",
       " 5822     193772504.0\n",
       " 5867             0.0\n",
       " 7270      10609321.0\n",
       " 7594       3000000.0\n",
       " 8033             0.0\n",
       " 8117             0.0\n",
       " 8119             0.0\n",
       " 8780             0.0\n",
       " 9546     102000000.0\n",
       " 10427            0.0\n",
       " 10865            0.0\n",
       " 11323    289847354.0\n",
       " 12529            0.0\n",
       " 14836    294804195.0\n",
       " 16764            0.0\n",
       " 16788            0.0\n",
       " 17580            0.0\n",
       " 17669            0.0\n",
       " 17677            0.0\n",
       " 18097            0.0\n",
       " 18098    185770160.0\n",
       " 22120    392000694.0\n",
       " 25845            0.0\n",
       " 25846            0.0\n",
       " 32619            0.0\n",
       " 32848            0.0\n",
       " 33330     23737523.0\n",
       " 36249            0.0\n",
       " Name: revenue, dtype: float64}"
      ]
     },
     "execution_count": 22,
     "metadata": {},
     "output_type": "execute_result"
    }
   ],
   "source": [
    "get_director(\"Martin Scorsese\")"
   ]
  }
 ],
 "metadata": {
  "kernelspec": {
   "display_name": "Python 3",
   "language": "python",
   "name": "python3"
  },
  "language_info": {
   "codemirror_mode": {
    "name": "ipython",
    "version": 3
   },
   "file_extension": ".py",
   "mimetype": "text/x-python",
   "name": "python",
   "nbconvert_exporter": "python",
   "pygments_lexer": "ipython3",
   "version": "3.11.0"
  },
  "orig_nbformat": 4
 },
 "nbformat": 4,
 "nbformat_minor": 2
}
